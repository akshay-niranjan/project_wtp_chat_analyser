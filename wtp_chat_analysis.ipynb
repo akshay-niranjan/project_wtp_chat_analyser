{
 "cells": [
  {
   "cell_type": "code",
   "execution_count": 1,
   "id": "e2e9d672-b9cb-4996-b2eb-d2744d1cd734",
   "metadata": {},
   "outputs": [],
   "source": [
    "import pandas as pd\n",
    "import re           # regular expression"
   ]
  },
  {
   "cell_type": "code",
   "execution_count": 2,
   "id": "0c38b27c-1d00-4f63-903d-3622eecff04c",
   "metadata": {},
   "outputs": [],
   "source": [
    "f=open('WhatsApp Chat with VAC 2( Science & Society).txt','r',encoding='utf-8')"
   ]
  },
  {
   "cell_type": "code",
   "execution_count": 3,
   "id": "9aed73e6-49a0-40f5-98b4-bfc75af6fbb7",
   "metadata": {},
   "outputs": [
    {
     "name": "stdout",
     "output_type": "stream",
     "text": [
      "10/02/25, 3:52 pm - Messages and calls are end-to-end encrypted. No one outside of this chat, not even WhatsApp, can read or listen to them. Tap to learn more.\n",
      "30/01/25, 3:20 pm - ~ Shivani created group \"VAC 2( Science & Society)\"\n",
      "10/02/25, 3:05 pm - ~ Shivani added you\n",
      "10/02/25, 3:41 pm - ~ Shivani added ~ Krishnabh Kaushik 😊\n",
      "10/02/25, 3:42 pm - ~ Shivani added ~ Mohit Choudhary\n",
      "10/02/25, 3:43 pm - ~ Mohit Choudhary added ~ ~ankit j@t, ~ kuldeepojha4818 and +91 89499 11069\n",
      "10/02/25, 3:43 pm - ~ P Chandran added ~ Rishiraj Nathawat\n",
      "10/02/25, 3:46 pm - ~ Mohit Choudhary added ~ पwñ Jang₹a\n",
      "10/02/25, 3:49 pm - ~ P Chandran added ~ Jaatni🦅\n",
      "10/02/25, 3:53 pm - ~ Mohit Choudhary added ~ ., ~ krish and +91 79888 26199\n",
      "10/02/25, 3:54 pm - ~ Shivani added ~ गुर्जर!!💪\n",
      "10/02/25, 7:03 pm - +91 74046 14556: <Media omitted>\n",
      "10/02/25, 7:03 pm - +91 74046 14556: <Media omitted>\n",
      "11/02/25, 3:09 pm - ~ ~ankit j@t added ~ Anmol\n",
      "11/02/25, 1:56 pm - +91 90451 52237: Aaj class hogi kya ?\n",
      "11/02/25, 2:28 pm - +91 81027 12865: Mam class hogi?\n",
      "11/02/25, 2:29 pm - +91 74046 14556: Yes\n",
      "11/02/25, 2:31 pm - +91 97178 89217: Room no.?\n",
      "11/02/25, 2:31 pm - +91 74046 14556: 103\n",
      "11/02/25, 3:14 pm - +91 74046 14556: https://youtu.be/5ysaMKoqmr8?si=a5vWEWTUNyVAJYIZ\n",
      "11/02/25, 3:31 pm - +91 74046 14556: https://youtu.be/3T558hMytIs?si=ybbx-k2C7wKFdi6d\n",
      "12/02/25, 11:05 pm - +91 80753 69575: <Media omitted>\n",
      "17/02/25, 12:58 pm - +91 90451 52237: Aaj class h kay ?\n",
      "17/02/25, 1:59 pm - +91 74046 14556: Yes\n",
      "18/02/25, 11:25 am - +91 74046 14556: *No class today*\n",
      "18/02/25, 11:50 am - +91 97178 89217: Ok mam\n",
      "24/02/25, 10:29 am - +91 75993 74953: Do we have class today?\n",
      "24/02/25, 12:59 pm - +917905420978: @917404614556 <This message was edited>\n",
      "24/02/25, 1:15 pm - +91 74046 14556: Yes\n",
      "25/02/25, 2:16 pm - +91 88007 03779: Aj class hogi kya ?\n",
      "25/02/25, 2:23 pm - +91 74046 14556: Yes\n",
      "01/03/25, 12:12 pm - +91 93520 32289: Mam plzz tell the topic to be presented on Monday\n",
      "01/03/25, 12:18 pm - +91 74046 14556: Observing transpiration and photosynthesis in plants\n",
      "01/03/25, 12:18 pm - +91 93520 32289: Thanku mam\n",
      "03/03/25, 1:02 pm - +91 74046 14556: *No class today*\n",
      "03/03/25, 5:38 pm - ~ Jaatni🦅 added +91 96088 26779\n",
      "04/03/25, 11:37 am - +91 74046 14556: *No class today*\n",
      "04/03/25, 10:54 pm - +91 90792 52360: <Media omitted>\n",
      "04/03/25, 10:54 pm - +91 90792 52360: <Media omitted>\n",
      "09/03/25, 8:38 pm - ~ Krishnabh Kaushik 😊 added ~ Parineeta✨\n",
      "11/03/25, 9:33 am - +91 73558 79975: What is the UPC of science and society? <This message was edited>\n",
      "11/03/25, 9:44 am - +91 73558 79975: Is it 6967000015 ? <This message was edited>\n",
      "11/03/25, 10:47 am - +91 97178 89217: This message was deleted\n",
      "11/03/25, 10:47 am - +91 97178 89217: Yes\n",
      "17/03/25, 10:17 am - +91 74258 05806: Will there be class today?\n",
      "17/03/25, 1:57 pm - +91 95182 98701: ??\n",
      "17/03/25, 1:58 pm - +91 74258 05806: @917404614556 ma'am <This message was edited>\n",
      "17/03/25, 2:29 pm - +91 81711 02732: Class hai aaj?\n",
      "17/03/25, 3:28 pm - +91 74046 14556: *No class for today and tomorrow* <This message was edited>\n",
      "17/03/25, 2:52 pm - ~ Shivani added +91 99531 99342\n",
      "17/03/25, 3:06 pm - ~ Krishnabh Kaushik 😊 added +91 78956 60645\n",
      "19/03/25, 1:10 pm - ~ Shivani added ~ Gagan Soni\n",
      "24/03/25, 1:44 pm - +91 93520 32289: Any class today??\n",
      "24/03/25, 2:16 pm - +91 93520 32289: @917404614556 mam is there any class today??\n",
      "24/03/25, 2:21 pm - +91 95182 98701: ???\n",
      "24/03/25, 2:25 pm - +91 88007 03779: ??\n",
      "24/03/25, 2:28 pm - +91 74799 93105: There will be class on scheduled time at the scheduled venue.\n",
      "24/03/25, 2:30 pm - +91 90451 52237: Room No\n",
      "24/03/25, 2:30 pm - +91 74799 93105: 103\n",
      "25/03/25, 11:47 am - ~ गुर्जर!!💪 added +91 88004 41141\n",
      "25/03/25, 3:21 pm - +91 98719 73150: This message was deleted\n",
      "27/03/25, 4:03 pm - +91 90010 17703 joined using this group's invite link\n",
      "\n"
     ]
    }
   ],
   "source": [
    "data=f.read()\n",
    "print(data)"
   ]
  },
  {
   "cell_type": "code",
   "execution_count": 4,
   "id": "5cd326a8-9c0a-45ef-89ed-38cdbc86626a",
   "metadata": {},
   "outputs": [
    {
     "name": "stdout",
     "output_type": "stream",
     "text": [
      "<class 'str'>\n"
     ]
    }
   ],
   "source": [
    "print(type(data))"
   ]
  },
  {
   "cell_type": "code",
   "execution_count": 5,
   "id": "12a5679c-a0e0-4a00-9504-c8c701346701",
   "metadata": {},
   "outputs": [],
   "source": [
    "# Creating DataFrame with two cols Date and msg\n",
    "# pattern = r\"\\d{2}/\\d{2}/\\d{2},\\s\\d{1,2}:\\d{2}\\u202f?(?:am|pm)\\s-\\s\"    # Regular exp string  \n",
    "pattern2 = r\"\\d{2}/\\d{2}/\\d{2},\\s\\d{1,2}:\\d{2}\"\n",
    "pattern = r\"\\d{2}/\\d{2}/\\d{2},\\s\\d{1,2}:\\d{2}[\\s\\u202f]?(?:am|pm)\\s-\\s\""
   ]
  },
  {
   "cell_type": "code",
   "execution_count": 6,
   "id": "18d94733-7abd-4174-8d6a-afd098ca7653",
   "metadata": {},
   "outputs": [],
   "source": [
    "message=re.split(pattern,data)[1:]"
   ]
  },
  {
   "cell_type": "code",
   "execution_count": 7,
   "id": "d6c4aaf4-8779-41d6-8eaf-b323c6161ffa",
   "metadata": {},
   "outputs": [
    {
     "data": {
      "text/plain": [
       "['Messages and calls are end-to-end encrypted. No one outside of this chat, not even WhatsApp, can read or listen to them. Tap to learn more.\\n',\n",
       " '~\\u202fShivani created group \"VAC 2( Science & Society)\"\\n',\n",
       " '~\\u202fShivani added you\\n',\n",
       " '~\\u202fShivani added ~\\u202fKrishnabh Kaushik 😊\\n',\n",
       " '~\\u202fShivani added ~\\u202fMohit Choudhary\\n',\n",
       " '~\\u202fMohit Choudhary added ~\\u202f~ankit j@t, ~\\u202fkuldeepojha4818 and +91 89499 11069\\n',\n",
       " '~\\u202fP Chandran added ~\\u202fRishiraj Nathawat\\n',\n",
       " '~\\u202fMohit Choudhary added ~\\u202fपwñ Jang₹a\\n',\n",
       " '~\\u202fP Chandran added ~\\u202fJaatni🦅\\n',\n",
       " '~\\u202fMohit Choudhary added ~\\u202f., ~\\u202fkrish and +91 79888 26199\\n',\n",
       " '~\\u202fShivani added ~\\u202fगुर्जर!!💪\\n',\n",
       " '+91 74046 14556: <Media omitted>\\n',\n",
       " '+91 74046 14556: <Media omitted>\\n',\n",
       " '~\\u202f~ankit j@t added ~\\u202fAnmol\\n',\n",
       " '+91 90451 52237: Aaj class hogi kya ?\\n',\n",
       " '+91 81027 12865: Mam class hogi?\\n',\n",
       " '+91 74046 14556: Yes\\n',\n",
       " '+91 97178 89217: Room no.?\\n',\n",
       " '+91 74046 14556: 103\\n',\n",
       " '+91 74046 14556: https://youtu.be/5ysaMKoqmr8?si=a5vWEWTUNyVAJYIZ\\n',\n",
       " '+91 74046 14556: https://youtu.be/3T558hMytIs?si=ybbx-k2C7wKFdi6d\\n',\n",
       " '+91 80753 69575: <Media omitted>\\n',\n",
       " '+91 90451 52237: Aaj class h kay ?\\n',\n",
       " '+91 74046 14556: Yes\\n',\n",
       " '+91 74046 14556: *No class today*\\n',\n",
       " '+91 97178 89217: Ok mam\\n',\n",
       " '+91 75993 74953: Do we have class today?\\n',\n",
       " '+917905420978: @917404614556 <This message was edited>\\n',\n",
       " '+91 74046 14556: Yes\\n',\n",
       " '+91 88007 03779: Aj class hogi kya ?\\n',\n",
       " '+91 74046 14556: Yes\\n',\n",
       " '+91 93520 32289: Mam plzz tell the topic to be presented on Monday\\n',\n",
       " '+91 74046 14556: Observing transpiration and photosynthesis in plants\\n',\n",
       " '+91 93520 32289: Thanku mam\\n',\n",
       " '+91 74046 14556: *No class today*\\n',\n",
       " '~\\u202fJaatni🦅 added +91 96088 26779\\n',\n",
       " '+91 74046 14556: *No class today*\\n',\n",
       " '+91 90792 52360: <Media omitted>\\n',\n",
       " '+91 90792 52360: <Media omitted>\\n',\n",
       " '~\\u202fKrishnabh Kaushik 😊 added ~\\u202fParineeta✨\\n',\n",
       " '+91 73558 79975: What is the UPC of science and society? <This message was edited>\\n',\n",
       " '+91 73558 79975: Is it 6967000015 ? <This message was edited>\\n',\n",
       " '+91 97178 89217: This message was deleted\\n',\n",
       " '+91 97178 89217: Yes\\n',\n",
       " '+91 74258 05806: Will there be class today?\\n',\n",
       " '+91 95182 98701: ??\\n',\n",
       " \"+91 74258 05806: @917404614556 ma'am <This message was edited>\\n\",\n",
       " '+91 81711 02732: Class hai aaj?\\n',\n",
       " '+91 74046 14556: *No class for today and tomorrow* <This message was edited>\\n',\n",
       " '~\\u202fShivani added +91 99531 99342\\n',\n",
       " '~\\u202fKrishnabh Kaushik 😊 added +91 78956 60645\\n',\n",
       " '~\\u202fShivani added ~\\u202fGagan Soni\\n',\n",
       " '+91 93520 32289: Any class today??\\n',\n",
       " '+91 93520 32289: @917404614556 mam is there any class today??\\n',\n",
       " '+91 95182 98701: ???\\n',\n",
       " '+91 88007 03779: ??\\n',\n",
       " '+91 74799 93105: There will be class on scheduled time at the scheduled venue.\\n',\n",
       " '+91 90451 52237: Room No\\n',\n",
       " '+91 74799 93105: 103\\n',\n",
       " '~\\u202fगुर्जर!!💪 added +91 88004 41141\\n',\n",
       " '+91 98719 73150: This message was deleted\\n',\n",
       " \"+91 90010 17703 joined using this group's invite link\\n\"]"
      ]
     },
     "execution_count": 7,
     "metadata": {},
     "output_type": "execute_result"
    }
   ],
   "source": [
    "message"
   ]
  },
  {
   "cell_type": "code",
   "execution_count": 8,
   "id": "2ccfd5a0-4aef-40e8-b1ee-a33ff58e7738",
   "metadata": {},
   "outputs": [],
   "source": [
    "dates = re.findall(pattern,data)"
   ]
  },
  {
   "cell_type": "code",
   "execution_count": 9,
   "id": "e6058fcc-e32e-4efb-873e-1836a6dea547",
   "metadata": {},
   "outputs": [
    {
     "data": {
      "text/plain": [
       "['10/02/25, 3:52\\u202fpm - ',\n",
       " '30/01/25, 3:20\\u202fpm - ',\n",
       " '10/02/25, 3:05\\u202fpm - ',\n",
       " '10/02/25, 3:41\\u202fpm - ',\n",
       " '10/02/25, 3:42\\u202fpm - ',\n",
       " '10/02/25, 3:43\\u202fpm - ',\n",
       " '10/02/25, 3:43\\u202fpm - ',\n",
       " '10/02/25, 3:46\\u202fpm - ',\n",
       " '10/02/25, 3:49\\u202fpm - ',\n",
       " '10/02/25, 3:53\\u202fpm - ',\n",
       " '10/02/25, 3:54\\u202fpm - ',\n",
       " '10/02/25, 7:03\\u202fpm - ',\n",
       " '10/02/25, 7:03\\u202fpm - ',\n",
       " '11/02/25, 3:09\\u202fpm - ',\n",
       " '11/02/25, 1:56\\u202fpm - ',\n",
       " '11/02/25, 2:28\\u202fpm - ',\n",
       " '11/02/25, 2:29\\u202fpm - ',\n",
       " '11/02/25, 2:31\\u202fpm - ',\n",
       " '11/02/25, 2:31\\u202fpm - ',\n",
       " '11/02/25, 3:14\\u202fpm - ',\n",
       " '11/02/25, 3:31\\u202fpm - ',\n",
       " '12/02/25, 11:05\\u202fpm - ',\n",
       " '17/02/25, 12:58\\u202fpm - ',\n",
       " '17/02/25, 1:59\\u202fpm - ',\n",
       " '18/02/25, 11:25\\u202fam - ',\n",
       " '18/02/25, 11:50\\u202fam - ',\n",
       " '24/02/25, 10:29\\u202fam - ',\n",
       " '24/02/25, 12:59\\u202fpm - ',\n",
       " '24/02/25, 1:15\\u202fpm - ',\n",
       " '25/02/25, 2:16\\u202fpm - ',\n",
       " '25/02/25, 2:23\\u202fpm - ',\n",
       " '01/03/25, 12:12\\u202fpm - ',\n",
       " '01/03/25, 12:18\\u202fpm - ',\n",
       " '01/03/25, 12:18\\u202fpm - ',\n",
       " '03/03/25, 1:02\\u202fpm - ',\n",
       " '03/03/25, 5:38\\u202fpm - ',\n",
       " '04/03/25, 11:37\\u202fam - ',\n",
       " '04/03/25, 10:54\\u202fpm - ',\n",
       " '04/03/25, 10:54\\u202fpm - ',\n",
       " '09/03/25, 8:38\\u202fpm - ',\n",
       " '11/03/25, 9:33\\u202fam - ',\n",
       " '11/03/25, 9:44\\u202fam - ',\n",
       " '11/03/25, 10:47\\u202fam - ',\n",
       " '11/03/25, 10:47\\u202fam - ',\n",
       " '17/03/25, 10:17\\u202fam - ',\n",
       " '17/03/25, 1:57\\u202fpm - ',\n",
       " '17/03/25, 1:58\\u202fpm - ',\n",
       " '17/03/25, 2:29\\u202fpm - ',\n",
       " '17/03/25, 3:28\\u202fpm - ',\n",
       " '17/03/25, 2:52\\u202fpm - ',\n",
       " '17/03/25, 3:06\\u202fpm - ',\n",
       " '19/03/25, 1:10\\u202fpm - ',\n",
       " '24/03/25, 1:44\\u202fpm - ',\n",
       " '24/03/25, 2:16\\u202fpm - ',\n",
       " '24/03/25, 2:21\\u202fpm - ',\n",
       " '24/03/25, 2:25\\u202fpm - ',\n",
       " '24/03/25, 2:28\\u202fpm - ',\n",
       " '24/03/25, 2:30\\u202fpm - ',\n",
       " '24/03/25, 2:30\\u202fpm - ',\n",
       " '25/03/25, 11:47\\u202fam - ',\n",
       " '25/03/25, 3:21\\u202fpm - ',\n",
       " '27/03/25, 4:03\\u202fpm - ']"
      ]
     },
     "execution_count": 9,
     "metadata": {},
     "output_type": "execute_result"
    }
   ],
   "source": [
    "dates"
   ]
  },
  {
   "cell_type": "code",
   "execution_count": 10,
   "id": "8d682cd1-e3d9-4868-bd4d-a6af0b152619",
   "metadata": {},
   "outputs": [
    {
     "data": {
      "text/html": [
       "<div>\n",
       "<style scoped>\n",
       "    .dataframe tbody tr th:only-of-type {\n",
       "        vertical-align: middle;\n",
       "    }\n",
       "\n",
       "    .dataframe tbody tr th {\n",
       "        vertical-align: top;\n",
       "    }\n",
       "\n",
       "    .dataframe thead th {\n",
       "        text-align: right;\n",
       "    }\n",
       "</style>\n",
       "<table border=\"1\" class=\"dataframe\">\n",
       "  <thead>\n",
       "    <tr style=\"text-align: right;\">\n",
       "      <th></th>\n",
       "      <th>user_message</th>\n",
       "      <th>date</th>\n",
       "    </tr>\n",
       "  </thead>\n",
       "  <tbody>\n",
       "    <tr>\n",
       "      <th>0</th>\n",
       "      <td>Messages and calls are end-to-end encrypted. N...</td>\n",
       "      <td>2025-02-10 15:52:00</td>\n",
       "    </tr>\n",
       "    <tr>\n",
       "      <th>1</th>\n",
       "      <td>~ Shivani created group \"VAC 2( Science &amp; Soci...</td>\n",
       "      <td>2025-01-30 15:20:00</td>\n",
       "    </tr>\n",
       "    <tr>\n",
       "      <th>2</th>\n",
       "      <td>~ Shivani added you\\n</td>\n",
       "      <td>2025-02-10 15:05:00</td>\n",
       "    </tr>\n",
       "    <tr>\n",
       "      <th>3</th>\n",
       "      <td>~ Shivani added ~ Krishnabh Kaushik 😊\\n</td>\n",
       "      <td>2025-02-10 15:41:00</td>\n",
       "    </tr>\n",
       "    <tr>\n",
       "      <th>4</th>\n",
       "      <td>~ Shivani added ~ Mohit Choudhary\\n</td>\n",
       "      <td>2025-02-10 15:42:00</td>\n",
       "    </tr>\n",
       "  </tbody>\n",
       "</table>\n",
       "</div>"
      ],
      "text/plain": [
       "                                        user_message                date\n",
       "0  Messages and calls are end-to-end encrypted. N... 2025-02-10 15:52:00\n",
       "1  ~ Shivani created group \"VAC 2( Science & Soci... 2025-01-30 15:20:00\n",
       "2                              ~ Shivani added you\\n 2025-02-10 15:05:00\n",
       "3            ~ Shivani added ~ Krishnabh Kaushik 😊\\n 2025-02-10 15:41:00\n",
       "4                ~ Shivani added ~ Mohit Choudhary\\n 2025-02-10 15:42:00"
      ]
     },
     "execution_count": 10,
     "metadata": {},
     "output_type": "execute_result"
    }
   ],
   "source": [
    "df=pd.DataFrame({'user_message':message,'message_date' : dates})\n",
    "df['message_date'] = df['message_date'].str.replace(\"\\u202f\", \" \")  # Fix narrow space\n",
    "df['message_date'] = df['message_date'].str.replace(\" -\", \"\")  # Remove extra \"-\"\n",
    "df['message_date'] = df['message_date'].str.strip()\n",
    "\n",
    "df['message_date']=pd.to_datetime(df['message_date'],format=\"%d/%m/%y, %I:%M %p\")\n",
    "df.rename(columns={'message_date':'date'},inplace=True)\n",
    "df.head()"
   ]
  },
  {
   "cell_type": "code",
   "execution_count": 11,
   "id": "69ef06b5-9956-4f64-95cb-538c64180614",
   "metadata": {},
   "outputs": [
    {
     "name": "stdout",
     "output_type": "stream",
     "text": [
      "<class 'pandas.core.frame.DataFrame'>\n",
      "RangeIndex: 62 entries, 0 to 61\n",
      "Data columns (total 2 columns):\n",
      " #   Column        Non-Null Count  Dtype         \n",
      "---  ------        --------------  -----         \n",
      " 0   user_message  62 non-null     object        \n",
      " 1   date          62 non-null     datetime64[ns]\n",
      "dtypes: datetime64[ns](1), object(1)\n",
      "memory usage: 1.1+ KB\n"
     ]
    }
   ],
   "source": [
    "df.info()"
   ]
  },
  {
   "cell_type": "code",
   "execution_count": 12,
   "id": "d8fdf255-38de-460d-a007-b2b0616ab054",
   "metadata": {},
   "outputs": [
    {
     "data": {
      "text/plain": [
       "'+91 74046 14556: 103\\n'"
      ]
     },
     "execution_count": 12,
     "metadata": {},
     "output_type": "execute_result"
    }
   ],
   "source": [
    "df['user_message'] = df['user_message'].str.replace(\"\\u202f\", \" \", regex=True)  # Fix narrow space\n",
    "df.user_message[18]"
   ]
  },
  {
   "cell_type": "code",
   "execution_count": 13,
   "id": "2bf89eef-375e-4628-8724-82118077afef",
   "metadata": {},
   "outputs": [],
   "source": [
    "# separate users and messages\n",
    "patt=\"([\\w\\W]+?):\\s\"\n",
    "users=[]\n",
    "messages=[]\n",
    "for message in df['user_message']:\n",
    "    entry = re.split(patt,message)\n",
    "    if entry[1:]: #user neame\n",
    "        users.append(entry[1])\n",
    "        messages.append(entry[2])\n",
    "    else:\n",
    "        users.append('group_notification')\n",
    "        messages.append(entry[0])\n",
    "\n",
    "df['user']=users\n",
    "df['messages']=messages\n",
    "df.drop(columns=['user_message'],inplace=True)\n"
   ]
  },
  {
   "cell_type": "code",
   "execution_count": 14,
   "id": "23435945-597b-4a3c-9e29-69377a932bbc",
   "metadata": {},
   "outputs": [
    {
     "data": {
      "text/html": [
       "<div>\n",
       "<style scoped>\n",
       "    .dataframe tbody tr th:only-of-type {\n",
       "        vertical-align: middle;\n",
       "    }\n",
       "\n",
       "    .dataframe tbody tr th {\n",
       "        vertical-align: top;\n",
       "    }\n",
       "\n",
       "    .dataframe thead th {\n",
       "        text-align: right;\n",
       "    }\n",
       "</style>\n",
       "<table border=\"1\" class=\"dataframe\">\n",
       "  <thead>\n",
       "    <tr style=\"text-align: right;\">\n",
       "      <th></th>\n",
       "      <th>date</th>\n",
       "      <th>user</th>\n",
       "      <th>messages</th>\n",
       "    </tr>\n",
       "  </thead>\n",
       "  <tbody>\n",
       "    <tr>\n",
       "      <th>29</th>\n",
       "      <td>2025-02-25 14:16:00</td>\n",
       "      <td>+91 88007 03779</td>\n",
       "      <td>Aj class hogi kya ?\\n</td>\n",
       "    </tr>\n",
       "    <tr>\n",
       "      <th>42</th>\n",
       "      <td>2025-03-11 10:47:00</td>\n",
       "      <td>+91 97178 89217</td>\n",
       "      <td>This message was deleted\\n</td>\n",
       "    </tr>\n",
       "    <tr>\n",
       "      <th>14</th>\n",
       "      <td>2025-02-11 13:56:00</td>\n",
       "      <td>+91 90451 52237</td>\n",
       "      <td>Aaj class hogi kya ?\\n</td>\n",
       "    </tr>\n",
       "    <tr>\n",
       "      <th>21</th>\n",
       "      <td>2025-02-12 23:05:00</td>\n",
       "      <td>+91 80753 69575</td>\n",
       "      <td>&lt;Media omitted&gt;\\n</td>\n",
       "    </tr>\n",
       "    <tr>\n",
       "      <th>31</th>\n",
       "      <td>2025-03-01 12:12:00</td>\n",
       "      <td>+91 93520 32289</td>\n",
       "      <td>Mam plzz tell the topic to be presented on Mon...</td>\n",
       "    </tr>\n",
       "  </tbody>\n",
       "</table>\n",
       "</div>"
      ],
      "text/plain": [
       "                  date             user  \\\n",
       "29 2025-02-25 14:16:00  +91 88007 03779   \n",
       "42 2025-03-11 10:47:00  +91 97178 89217   \n",
       "14 2025-02-11 13:56:00  +91 90451 52237   \n",
       "21 2025-02-12 23:05:00  +91 80753 69575   \n",
       "31 2025-03-01 12:12:00  +91 93520 32289   \n",
       "\n",
       "                                             messages  \n",
       "29                              Aj class hogi kya ?\\n  \n",
       "42                         This message was deleted\\n  \n",
       "14                             Aaj class hogi kya ?\\n  \n",
       "21                                  <Media omitted>\\n  \n",
       "31  Mam plzz tell the topic to be presented on Mon...  "
      ]
     },
     "execution_count": 14,
     "metadata": {},
     "output_type": "execute_result"
    }
   ],
   "source": [
    "df.sample(5)"
   ]
  },
  {
   "cell_type": "code",
   "execution_count": 15,
   "id": "4d5e8942-f847-4140-b2b0-1d356a84d41f",
   "metadata": {},
   "outputs": [
    {
     "name": "stdout",
     "output_type": "stream",
     "text": [
      "<class 'pandas.core.frame.DataFrame'>\n",
      "RangeIndex: 62 entries, 0 to 61\n",
      "Data columns (total 3 columns):\n",
      " #   Column    Non-Null Count  Dtype         \n",
      "---  ------    --------------  -----         \n",
      " 0   date      62 non-null     datetime64[ns]\n",
      " 1   user      62 non-null     object        \n",
      " 2   messages  62 non-null     object        \n",
      "dtypes: datetime64[ns](1), object(2)\n",
      "memory usage: 1.6+ KB\n"
     ]
    }
   ],
   "source": [
    "df.info()"
   ]
  },
  {
   "cell_type": "code",
   "execution_count": 31,
   "id": "0a592984-353a-4d6b-ab03-e4185dd6462d",
   "metadata": {},
   "outputs": [],
   "source": [
    "df['month']=df.date.dt.month_name()\n",
    "df['year']=df.date.dt.year\n",
    "df['day']=df.date.dt.day\n",
    "df['hour']=df.date.dt.hour\n",
    "df['minute']=df.date.dt.minute"
   ]
  },
  {
   "cell_type": "code",
   "execution_count": 32,
   "id": "0cfddc69-bab8-4d54-abc4-2d3170dc0b04",
   "metadata": {},
   "outputs": [
    {
     "data": {
      "text/html": [
       "<div>\n",
       "<style scoped>\n",
       "    .dataframe tbody tr th:only-of-type {\n",
       "        vertical-align: middle;\n",
       "    }\n",
       "\n",
       "    .dataframe tbody tr th {\n",
       "        vertical-align: top;\n",
       "    }\n",
       "\n",
       "    .dataframe thead th {\n",
       "        text-align: right;\n",
       "    }\n",
       "</style>\n",
       "<table border=\"1\" class=\"dataframe\">\n",
       "  <thead>\n",
       "    <tr style=\"text-align: right;\">\n",
       "      <th></th>\n",
       "      <th>date</th>\n",
       "      <th>user</th>\n",
       "      <th>messages</th>\n",
       "      <th>month</th>\n",
       "      <th>day</th>\n",
       "      <th>hour</th>\n",
       "      <th>minute</th>\n",
       "      <th>month_num</th>\n",
       "      <th>year</th>\n",
       "    </tr>\n",
       "  </thead>\n",
       "  <tbody>\n",
       "    <tr>\n",
       "      <th>0</th>\n",
       "      <td>2025-02-10 15:52:00</td>\n",
       "      <td>group_notification</td>\n",
       "      <td>Messages and calls are end-to-end encrypted. N...</td>\n",
       "      <td>February</td>\n",
       "      <td>10</td>\n",
       "      <td>15</td>\n",
       "      <td>52</td>\n",
       "      <td>2</td>\n",
       "      <td>2025</td>\n",
       "    </tr>\n",
       "    <tr>\n",
       "      <th>1</th>\n",
       "      <td>2025-01-30 15:20:00</td>\n",
       "      <td>group_notification</td>\n",
       "      <td>~ Shivani created group \"VAC 2( Science &amp; Soci...</td>\n",
       "      <td>January</td>\n",
       "      <td>30</td>\n",
       "      <td>15</td>\n",
       "      <td>20</td>\n",
       "      <td>1</td>\n",
       "      <td>2025</td>\n",
       "    </tr>\n",
       "    <tr>\n",
       "      <th>2</th>\n",
       "      <td>2025-02-10 15:05:00</td>\n",
       "      <td>group_notification</td>\n",
       "      <td>~ Shivani added you\\n</td>\n",
       "      <td>February</td>\n",
       "      <td>10</td>\n",
       "      <td>15</td>\n",
       "      <td>5</td>\n",
       "      <td>2</td>\n",
       "      <td>2025</td>\n",
       "    </tr>\n",
       "    <tr>\n",
       "      <th>3</th>\n",
       "      <td>2025-02-10 15:41:00</td>\n",
       "      <td>group_notification</td>\n",
       "      <td>~ Shivani added ~ Krishnabh Kaushik 😊\\n</td>\n",
       "      <td>February</td>\n",
       "      <td>10</td>\n",
       "      <td>15</td>\n",
       "      <td>41</td>\n",
       "      <td>2</td>\n",
       "      <td>2025</td>\n",
       "    </tr>\n",
       "    <tr>\n",
       "      <th>4</th>\n",
       "      <td>2025-02-10 15:42:00</td>\n",
       "      <td>group_notification</td>\n",
       "      <td>~ Shivani added ~ Mohit Choudhary\\n</td>\n",
       "      <td>February</td>\n",
       "      <td>10</td>\n",
       "      <td>15</td>\n",
       "      <td>42</td>\n",
       "      <td>2</td>\n",
       "      <td>2025</td>\n",
       "    </tr>\n",
       "  </tbody>\n",
       "</table>\n",
       "</div>"
      ],
      "text/plain": [
       "                 date                user  \\\n",
       "0 2025-02-10 15:52:00  group_notification   \n",
       "1 2025-01-30 15:20:00  group_notification   \n",
       "2 2025-02-10 15:05:00  group_notification   \n",
       "3 2025-02-10 15:41:00  group_notification   \n",
       "4 2025-02-10 15:42:00  group_notification   \n",
       "\n",
       "                                            messages     month  day  hour  \\\n",
       "0  Messages and calls are end-to-end encrypted. N...  February   10    15   \n",
       "1  ~ Shivani created group \"VAC 2( Science & Soci...   January   30    15   \n",
       "2                              ~ Shivani added you\\n  February   10    15   \n",
       "3            ~ Shivani added ~ Krishnabh Kaushik 😊\\n  February   10    15   \n",
       "4                ~ Shivani added ~ Mohit Choudhary\\n  February   10    15   \n",
       "\n",
       "   minute  month_num  year  \n",
       "0      52          2  2025  \n",
       "1      20          1  2025  \n",
       "2       5          2  2025  \n",
       "3      41          2  2025  \n",
       "4      42          2  2025  "
      ]
     },
     "execution_count": 32,
     "metadata": {},
     "output_type": "execute_result"
    }
   ],
   "source": [
    "df.head()"
   ]
  },
  {
   "cell_type": "code",
   "execution_count": 18,
   "id": "fd5d07b9-c949-4bfc-9a18-9dafb807bac9",
   "metadata": {},
   "outputs": [],
   "source": [
    "words=[]\n",
    "for message in df.messages:\n",
    "    words.extend(message.split())"
   ]
  },
  {
   "cell_type": "code",
   "execution_count": 19,
   "id": "b4e67775-8728-4c64-bc7b-4e1eaeb1af09",
   "metadata": {},
   "outputs": [
    {
     "data": {
      "text/plain": [
       "311"
      ]
     },
     "execution_count": 19,
     "metadata": {},
     "output_type": "execute_result"
    }
   ],
   "source": [
    "len(words)"
   ]
  },
  {
   "cell_type": "code",
   "execution_count": 20,
   "id": "b730a1e9-862c-4dfe-8c77-5beddfda701b",
   "metadata": {},
   "outputs": [
    {
     "data": {
      "text/plain": [
       "(62, 7)"
      ]
     },
     "execution_count": 20,
     "metadata": {},
     "output_type": "execute_result"
    }
   ],
   "source": [
    "df.shape"
   ]
  },
  {
   "cell_type": "code",
   "execution_count": 21,
   "id": "12b5352f-6af6-47db-858b-52151a6792c0",
   "metadata": {},
   "outputs": [
    {
     "name": "stdout",
     "output_type": "stream",
     "text": [
      "                  date                user  \\\n",
      "0  2025-02-10 15:52:00  group_notification   \n",
      "1  2025-01-30 15:20:00  group_notification   \n",
      "2  2025-02-10 15:05:00  group_notification   \n",
      "3  2025-02-10 15:41:00  group_notification   \n",
      "4  2025-02-10 15:42:00  group_notification   \n",
      "..                 ...                 ...   \n",
      "57 2025-03-24 14:30:00     +91 90451 52237   \n",
      "58 2025-03-24 14:30:00     +91 74799 93105   \n",
      "59 2025-03-25 11:47:00  group_notification   \n",
      "60 2025-03-25 15:21:00     +91 98719 73150   \n",
      "61 2025-03-27 16:03:00  group_notification   \n",
      "\n",
      "                                             messages     month  day  hour  \\\n",
      "0   Messages and calls are end-to-end encrypted. N...  February   10    15   \n",
      "1   ~ Shivani created group \"VAC 2( Science & Soci...   January   30    15   \n",
      "2                               ~ Shivani added you\\n  February   10    15   \n",
      "3             ~ Shivani added ~ Krishnabh Kaushik 😊\\n  February   10    15   \n",
      "4                 ~ Shivani added ~ Mohit Choudhary\\n  February   10    15   \n",
      "..                                                ...       ...  ...   ...   \n",
      "57                                          Room No\\n     March   24    14   \n",
      "58                                              103\\n     March   24    14   \n",
      "59                ~ गुर्जर!!💪 added +91 88004 41141\\n     March   25    11   \n",
      "60                         This message was deleted\\n     March   25    15   \n",
      "61  +91 90010 17703 joined using this group's invi...     March   27    16   \n",
      "\n",
      "    minute  \n",
      "0       52  \n",
      "1       20  \n",
      "2        5  \n",
      "3       41  \n",
      "4       42  \n",
      "..     ...  \n",
      "57      30  \n",
      "58      30  \n",
      "59      47  \n",
      "60      21  \n",
      "61       3  \n",
      "\n",
      "[62 rows x 7 columns]\n"
     ]
    }
   ],
   "source": [
    "print(df)"
   ]
  },
  {
   "cell_type": "code",
   "execution_count": 22,
   "id": "a1b2b5b1-6756-4dd1-9ec5-56433ae32174",
   "metadata": {},
   "outputs": [
    {
     "data": {
      "text/plain": [
       "['stackoverflow.com', 'google.com']"
      ]
     },
     "execution_count": 22,
     "metadata": {},
     "output_type": "execute_result"
    }
   ],
   "source": [
    "from urlextract import URLExtract\n",
    "extractor = URLExtract()\n",
    "urls = extractor.find_urls(\"Let's have URL stackoverflow.com as an example google.com\")\n",
    "urls"
   ]
  },
  {
   "cell_type": "code",
   "execution_count": 23,
   "id": "3f632586-0e19-4a77-9c9c-e039295a0434",
   "metadata": {},
   "outputs": [
    {
     "name": "stdout",
     "output_type": "stream",
     "text": [
      "Requirement already satisfied: urlextract in c:\\users\\aksha\\appdata\\local\\programs\\python\\python310\\lib\\site-packages (1.9.0)\n",
      "Requirement already satisfied: idna in c:\\users\\aksha\\appdata\\local\\programs\\python\\python310\\lib\\site-packages (from urlextract) (3.10)\n",
      "Requirement already satisfied: uritools in c:\\users\\aksha\\appdata\\local\\programs\\python\\python310\\lib\\site-packages (from urlextract) (4.0.3)\n",
      "Requirement already satisfied: platformdirs in c:\\users\\aksha\\appdata\\roaming\\python\\python310\\site-packages (from urlextract) (4.3.6)\n",
      "Requirement already satisfied: filelock in c:\\users\\aksha\\appdata\\local\\programs\\python\\python310\\lib\\site-packages (from urlextract) (3.18.0)\n"
     ]
    }
   ],
   "source": [
    "!pip install urlextract"
   ]
  },
  {
   "cell_type": "code",
   "execution_count": 24,
   "id": "ba292d0a-dc13-45e0-9f26-69d29b20b0f3",
   "metadata": {},
   "outputs": [],
   "source": [
    "links=[]\n",
    "for message in df.messages:\n",
    "    links.extend(extractor.find_urls(message))\n"
   ]
  },
  {
   "cell_type": "code",
   "execution_count": 25,
   "id": "413d53b6-bb0c-41a8-be4c-1624e9fc4104",
   "metadata": {},
   "outputs": [
    {
     "data": {
      "text/plain": [
       "2"
      ]
     },
     "execution_count": 25,
     "metadata": {},
     "output_type": "execute_result"
    }
   ],
   "source": [
    "len(links)"
   ]
  },
  {
   "cell_type": "code",
   "execution_count": 26,
   "id": "565849f1-ace0-4f95-b510-1a82aee9e53f",
   "metadata": {},
   "outputs": [
    {
     "name": "stdout",
     "output_type": "stream",
     "text": [
      "Requirement already satisfied: emoji in c:\\users\\aksha\\appdata\\local\\programs\\python\\python310\\lib\\site-packages (2.14.1)\n"
     ]
    }
   ],
   "source": [
    "!pip install emoji"
   ]
  },
  {
   "cell_type": "code",
   "execution_count": 27,
   "id": "2fa9e6f9-4b87-4068-9dbf-4e6beec5dd8d",
   "metadata": {},
   "outputs": [],
   "source": [
    "import emoji"
   ]
  },
  {
   "cell_type": "code",
   "execution_count": 28,
   "id": "a6fbdb11-99ae-41a3-adb8-642c54b03ac6",
   "metadata": {},
   "outputs": [],
   "source": [
    "emojis=[]\n",
    "for message in df.messages:\n",
    "    emojis.extend([c for c in message if emoji.is_emoji(c)])"
   ]
  },
  {
   "cell_type": "code",
   "execution_count": null,
   "id": "d5e64bcc-7bcc-4c5c-952b-58869c93712b",
   "metadata": {},
   "outputs": [],
   "source": []
  },
  {
   "cell_type": "code",
   "execution_count": 127,
   "id": "d6bfbd23-8905-4910-bbca-b08663176b08",
   "metadata": {},
   "outputs": [
    {
     "name": "stderr",
     "output_type": "stream",
     "text": [
      "ERROR: Could not find a version that satisfies the requirement collections (from versions: none)\n",
      "ERROR: No matching distribution found for collections\n"
     ]
    }
   ],
   "source": [
    "!pip install collections"
   ]
  },
  {
   "cell_type": "code",
   "execution_count": 128,
   "id": "5b36e9af-2dae-4768-ba8c-04acaaf51043",
   "metadata": {},
   "outputs": [],
   "source": [
    "from collections import Counter"
   ]
  },
  {
   "cell_type": "code",
   "execution_count": 29,
   "id": "fe2bedd4-1ab6-444c-bacc-158ec0b69fe8",
   "metadata": {},
   "outputs": [],
   "source": [
    "df['month_num']=df.date.dt.month"
   ]
  },
  {
   "cell_type": "code",
   "execution_count": 36,
   "id": "2551bec2-d9d2-49e7-858e-387c8b25b5e9",
   "metadata": {},
   "outputs": [],
   "source": [
    "timeline=df.groupby(['year','month_num','month']).count()['messages'].reset_index()"
   ]
  },
  {
   "cell_type": "code",
   "execution_count": 37,
   "id": "39f8b0ee-db98-4ad0-acc5-154d2ea7e08d",
   "metadata": {},
   "outputs": [
    {
     "data": {
      "text/html": [
       "<div>\n",
       "<style scoped>\n",
       "    .dataframe tbody tr th:only-of-type {\n",
       "        vertical-align: middle;\n",
       "    }\n",
       "\n",
       "    .dataframe tbody tr th {\n",
       "        vertical-align: top;\n",
       "    }\n",
       "\n",
       "    .dataframe thead th {\n",
       "        text-align: right;\n",
       "    }\n",
       "</style>\n",
       "<table border=\"1\" class=\"dataframe\">\n",
       "  <thead>\n",
       "    <tr style=\"text-align: right;\">\n",
       "      <th></th>\n",
       "      <th>year</th>\n",
       "      <th>month_num</th>\n",
       "      <th>month</th>\n",
       "      <th>messages</th>\n",
       "    </tr>\n",
       "  </thead>\n",
       "  <tbody>\n",
       "    <tr>\n",
       "      <th>0</th>\n",
       "      <td>2025</td>\n",
       "      <td>1</td>\n",
       "      <td>January</td>\n",
       "      <td>1</td>\n",
       "    </tr>\n",
       "    <tr>\n",
       "      <th>1</th>\n",
       "      <td>2025</td>\n",
       "      <td>2</td>\n",
       "      <td>February</td>\n",
       "      <td>30</td>\n",
       "    </tr>\n",
       "    <tr>\n",
       "      <th>2</th>\n",
       "      <td>2025</td>\n",
       "      <td>3</td>\n",
       "      <td>March</td>\n",
       "      <td>31</td>\n",
       "    </tr>\n",
       "  </tbody>\n",
       "</table>\n",
       "</div>"
      ],
      "text/plain": [
       "   year  month_num     month  messages\n",
       "0  2025          1   January         1\n",
       "1  2025          2  February        30\n",
       "2  2025          3     March        31"
      ]
     },
     "execution_count": 37,
     "metadata": {},
     "output_type": "execute_result"
    }
   ],
   "source": [
    "timeline"
   ]
  },
  {
   "cell_type": "code",
   "execution_count": 41,
   "id": "8639a539-bb8d-4010-a672-5e20dcf6ec1a",
   "metadata": {},
   "outputs": [],
   "source": [
    "time=[]\n",
    "for i in range(timeline.shape[0]):\n",
    "    time.append(timeline.month[i]+\"-\"+str(timeline.year[i]))\n"
   ]
  },
  {
   "cell_type": "code",
   "execution_count": 43,
   "id": "5d94295c-3ccb-46bb-b9be-7e8b6a9364cd",
   "metadata": {},
   "outputs": [
    {
     "data": {
      "text/html": [
       "<div>\n",
       "<style scoped>\n",
       "    .dataframe tbody tr th:only-of-type {\n",
       "        vertical-align: middle;\n",
       "    }\n",
       "\n",
       "    .dataframe tbody tr th {\n",
       "        vertical-align: top;\n",
       "    }\n",
       "\n",
       "    .dataframe thead th {\n",
       "        text-align: right;\n",
       "    }\n",
       "</style>\n",
       "<table border=\"1\" class=\"dataframe\">\n",
       "  <thead>\n",
       "    <tr style=\"text-align: right;\">\n",
       "      <th></th>\n",
       "      <th>year</th>\n",
       "      <th>month_num</th>\n",
       "      <th>month</th>\n",
       "      <th>messages</th>\n",
       "      <th>time</th>\n",
       "    </tr>\n",
       "  </thead>\n",
       "  <tbody>\n",
       "    <tr>\n",
       "      <th>0</th>\n",
       "      <td>2025</td>\n",
       "      <td>1</td>\n",
       "      <td>January</td>\n",
       "      <td>1</td>\n",
       "      <td>January-2025</td>\n",
       "    </tr>\n",
       "    <tr>\n",
       "      <th>1</th>\n",
       "      <td>2025</td>\n",
       "      <td>2</td>\n",
       "      <td>February</td>\n",
       "      <td>30</td>\n",
       "      <td>February-2025</td>\n",
       "    </tr>\n",
       "    <tr>\n",
       "      <th>2</th>\n",
       "      <td>2025</td>\n",
       "      <td>3</td>\n",
       "      <td>March</td>\n",
       "      <td>31</td>\n",
       "      <td>March-2025</td>\n",
       "    </tr>\n",
       "  </tbody>\n",
       "</table>\n",
       "</div>"
      ],
      "text/plain": [
       "   year  month_num     month  messages           time\n",
       "0  2025          1   January         1   January-2025\n",
       "1  2025          2  February        30  February-2025\n",
       "2  2025          3     March        31     March-2025"
      ]
     },
     "execution_count": 43,
     "metadata": {},
     "output_type": "execute_result"
    }
   ],
   "source": [
    "timeline['time']=time\n",
    "timeline"
   ]
  },
  {
   "cell_type": "code",
   "execution_count": 47,
   "id": "ee2122cb-6540-47a1-9251-75cc74de02a3",
   "metadata": {},
   "outputs": [
    {
     "data": {
      "image/png": "[encoded data removed]",
      "text/plain": [
       "<Figure size 640x480 with 1 Axes>"
      ]
     },
     "metadata": {},
     "output_type": "display_data"
    }
   ],
   "source": [
    "import matplotlib.pyplot as plt\n",
    "plt.plot(timeline.time,timeline.messages)\n",
    "plt.xticks(rotation='vertical')\n",
    "plt.show()"
   ]
  },
  {
   "cell_type": "code",
   "execution_count": 50,
   "id": "a75add3f-cf22-4e27-830b-c67a7c4a7c04",
   "metadata": {},
   "outputs": [],
   "source": [
    "# Daily timeline\n",
    "df['only_date']=df.date.dt.date"
   ]
  },
  {
   "cell_type": "code",
   "execution_count": 54,
   "id": "4851bb65-3d7e-46fb-a66f-50622ebb28f7",
   "metadata": {},
   "outputs": [],
   "source": [
    "daily_timeline=df.groupby('only_date').count()['messages'].reset_index()"
   ]
  },
  {
   "cell_type": "code",
   "execution_count": 55,
   "id": "35513edf-7220-4823-9cbb-87119078697b",
   "metadata": {},
   "outputs": [
    {
     "data": {
      "image/png": "[encoded data removed]",
      "text/plain": [
       "<Figure size 640x480 with 1 Axes>"
      ]
     },
     "metadata": {},
     "output_type": "display_data"
    }
   ],
   "source": [
    "plt.plot(daily_timeline.only_date,daily_timeline.messages)\n",
    "plt.xticks(rotation='vertical')\n",
    "plt.show()"
   ]
  },
  {
   "cell_type": "code",
   "execution_count": 56,
   "id": "560f7bd4-7d08-4db4-8f6c-6ff869423792",
   "metadata": {},
   "outputs": [
    {
     "data": {
      "text/plain": [
       "day_name\n",
       "Monday       33\n",
       "Tuesday      21\n",
       "Saturday      3\n",
       "Thursday      2\n",
       "Wednesday     2\n",
       "Sunday        1\n",
       "Name: count, dtype: int64"
      ]
     },
     "execution_count": 56,
     "metadata": {},
     "output_type": "execute_result"
    }
   ],
   "source": [
    "df['day_name']=df['date'].dt.day_name()\n",
    "df.day_name.value_counts()"
   ]
  },
  {
   "cell_type": "code",
   "execution_count": 57,
   "id": "1ae8752f-b04a-4bf8-a339-0e56055fbb42",
   "metadata": {},
   "outputs": [],
   "source": [
    "# Heatmap for most time active in a week"
   ]
  },
  {
   "cell_type": "code",
   "execution_count": 61,
   "id": "a7cd1b74-f9ce-4d61-8675-268e7e427b98",
   "metadata": {},
   "outputs": [],
   "source": [
    "period=[]\n",
    "for hour in df[['day_name','hour']]['hour']:\n",
    "    if hour == 23:\n",
    "        period.append(str(hour)+\"-\"+str('00'))\n",
    "    elif hour == 0:\n",
    "        period.append(str(00)+\"-\"+str(hour+1))\n",
    "    else:\n",
    "        period.append(str(hour)+\"-\"+str(hour+1))\n",
    "        \n",
    "df['period']=period"
   ]
  },
  {
   "cell_type": "code",
   "execution_count": 62,
   "id": "4a64e29f-792e-4d0a-bf13-29e69d6f413b",
   "metadata": {},
   "outputs": [
    {
     "data": {
      "text/html": [
       "<div>\n",
       "<style scoped>\n",
       "    .dataframe tbody tr th:only-of-type {\n",
       "        vertical-align: middle;\n",
       "    }\n",
       "\n",
       "    .dataframe tbody tr th {\n",
       "        vertical-align: top;\n",
       "    }\n",
       "\n",
       "    .dataframe thead th {\n",
       "        text-align: right;\n",
       "    }\n",
       "</style>\n",
       "<table border=\"1\" class=\"dataframe\">\n",
       "  <thead>\n",
       "    <tr style=\"text-align: right;\">\n",
       "      <th></th>\n",
       "      <th>date</th>\n",
       "      <th>user</th>\n",
       "      <th>messages</th>\n",
       "      <th>month</th>\n",
       "      <th>day</th>\n",
       "      <th>hour</th>\n",
       "      <th>minute</th>\n",
       "      <th>month_num</th>\n",
       "      <th>year</th>\n",
       "      <th>only_date</th>\n",
       "      <th>day_name</th>\n",
       "      <th>period</th>\n",
       "    </tr>\n",
       "  </thead>\n",
       "  <tbody>\n",
       "    <tr>\n",
       "      <th>46</th>\n",
       "      <td>2025-03-17 13:58:00</td>\n",
       "      <td>+91 74258 05806</td>\n",
       "      <td>@917404614556 ma'am &lt;This message was edited&gt;\\n</td>\n",
       "      <td>March</td>\n",
       "      <td>17</td>\n",
       "      <td>13</td>\n",
       "      <td>58</td>\n",
       "      <td>3</td>\n",
       "      <td>2025</td>\n",
       "      <td>2025-03-17</td>\n",
       "      <td>Monday</td>\n",
       "      <td>13-14</td>\n",
       "    </tr>\n",
       "    <tr>\n",
       "      <th>49</th>\n",
       "      <td>2025-03-17 14:52:00</td>\n",
       "      <td>group_notification</td>\n",
       "      <td>~ Shivani added +91 99531 99342\\n</td>\n",
       "      <td>March</td>\n",
       "      <td>17</td>\n",
       "      <td>14</td>\n",
       "      <td>52</td>\n",
       "      <td>3</td>\n",
       "      <td>2025</td>\n",
       "      <td>2025-03-17</td>\n",
       "      <td>Monday</td>\n",
       "      <td>14-15</td>\n",
       "    </tr>\n",
       "    <tr>\n",
       "      <th>3</th>\n",
       "      <td>2025-02-10 15:41:00</td>\n",
       "      <td>group_notification</td>\n",
       "      <td>~ Shivani added ~ Krishnabh Kaushik 😊\\n</td>\n",
       "      <td>February</td>\n",
       "      <td>10</td>\n",
       "      <td>15</td>\n",
       "      <td>41</td>\n",
       "      <td>2</td>\n",
       "      <td>2025</td>\n",
       "      <td>2025-02-10</td>\n",
       "      <td>Monday</td>\n",
       "      <td>15-16</td>\n",
       "    </tr>\n",
       "    <tr>\n",
       "      <th>30</th>\n",
       "      <td>2025-02-25 14:23:00</td>\n",
       "      <td>+91 74046 14556</td>\n",
       "      <td>Yes\\n</td>\n",
       "      <td>February</td>\n",
       "      <td>25</td>\n",
       "      <td>14</td>\n",
       "      <td>23</td>\n",
       "      <td>2</td>\n",
       "      <td>2025</td>\n",
       "      <td>2025-02-25</td>\n",
       "      <td>Tuesday</td>\n",
       "      <td>14-15</td>\n",
       "    </tr>\n",
       "    <tr>\n",
       "      <th>32</th>\n",
       "      <td>2025-03-01 12:18:00</td>\n",
       "      <td>+91 74046 14556</td>\n",
       "      <td>Observing transpiration and photosynthesis in ...</td>\n",
       "      <td>March</td>\n",
       "      <td>1</td>\n",
       "      <td>12</td>\n",
       "      <td>18</td>\n",
       "      <td>3</td>\n",
       "      <td>2025</td>\n",
       "      <td>2025-03-01</td>\n",
       "      <td>Saturday</td>\n",
       "      <td>12-13</td>\n",
       "    </tr>\n",
       "  </tbody>\n",
       "</table>\n",
       "</div>"
      ],
      "text/plain": [
       "                  date                user  \\\n",
       "46 2025-03-17 13:58:00     +91 74258 05806   \n",
       "49 2025-03-17 14:52:00  group_notification   \n",
       "3  2025-02-10 15:41:00  group_notification   \n",
       "30 2025-02-25 14:23:00     +91 74046 14556   \n",
       "32 2025-03-01 12:18:00     +91 74046 14556   \n",
       "\n",
       "                                             messages     month  day  hour  \\\n",
       "46    @917404614556 ma'am <This message was edited>\\n     March   17    13   \n",
       "49                  ~ Shivani added +91 99531 99342\\n     March   17    14   \n",
       "3             ~ Shivani added ~ Krishnabh Kaushik 😊\\n  February   10    15   \n",
       "30                                              Yes\\n  February   25    14   \n",
       "32  Observing transpiration and photosynthesis in ...     March    1    12   \n",
       "\n",
       "    minute  month_num  year   only_date  day_name period  \n",
       "46      58          3  2025  2025-03-17    Monday  13-14  \n",
       "49      52          3  2025  2025-03-17    Monday  14-15  \n",
       "3       41          2  2025  2025-02-10    Monday  15-16  \n",
       "30      23          2  2025  2025-02-25   Tuesday  14-15  \n",
       "32      18          3  2025  2025-03-01  Saturday  12-13  "
      ]
     },
     "execution_count": 62,
     "metadata": {},
     "output_type": "execute_result"
    }
   ],
   "source": [
    "df.sample(5)"
   ]
  },
  {
   "cell_type": "code",
   "execution_count": 64,
   "id": "50ee17c4-39d4-4b8f-bc5b-85993320348f",
   "metadata": {},
   "outputs": [
    {
     "data": {
      "image/png": "[encoded data removed]",
      "text/plain": [
       "<Figure size 2000x600 with 2 Axes>"
      ]
     },
     "metadata": {},
     "output_type": "display_data"
    }
   ],
   "source": [
    "import seaborn as sns\n",
    "plt.figure(figsize=(20,6))\n",
    "sns.heatmap(df.pivot_table(index='day_name',columns='period',values='messages',aggfunc='count').fillna(0))\n",
    "plt.yticks(rotation='horizontal')\n",
    "plt.show()"
   ]
  },
  {
   "cell_type": "code",
   "execution_count": null,
   "id": "317327d0-08f7-47e7-8546-c1d2fdbf2e92",
   "metadata": {},
   "outputs": [],
   "source": []
  }
 ],
 "metadata": {
  "kernelspec": {
   "display_name": "Python 3 (ipykernel)",
   "language": "python",
   "name": "python3"
  },
  "language_info": {
   "codemirror_mode": {
    "name": "ipython",
    "version": 3
   },
   "file_extension": ".py",
   "mimetype": "text/x-python",
   "name": "python",
   "nbconvert_exporter": "python",
   "pygments_lexer": "ipython3",
   "version": "3.10.0"
  }
 },
 "nbformat": 4,
 "nbformat_minor": 5
}
